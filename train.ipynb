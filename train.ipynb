{
 "cells": [
  {
   "cell_type": "code",
   "execution_count": 1,
   "metadata": {},
   "outputs": [],
   "source": [
    "import numpy as np\n",
    "import pandas as pd\n",
    "import matplotlib.pyplot as plt\n",
    "import seaborn as sns\n",
    "from DecisionTree import DecisionTree\n",
    "from sklearn.metrics import accuracy_score,confusion_matrix, f1_score\n",
    "from sklearn.preprocessing import OneHotEncoder\n",
    "from sklearn.model_selection import train_test_split\n",
    "from BaggingClassifier import BaggingClassifier\n",
    "%run DecisionTree.py\n",
    "%run BaggingClassifier.py\n",
    "%run AdaBoost.py\n"
   ]
  },
  {
   "cell_type": "code",
   "execution_count": 2,
   "metadata": {},
   "outputs": [],
   "source": [
    "# Load dataset\n",
    "data = pd.read_csv('heart.csv')\n",
    "# Binary encoding for 'Sex' and 'ExerciseAngina'\n",
    "data['Sex'] = data['Sex'].map({'M': 1, 'F': 0})\n",
    "data['ExerciseAngina'] = data['ExerciseAngina'].map({'Y': 1, 'N': 0})\n",
    "# Extract features and labels\n",
    "X = data.drop(columns=['HeartDisease'])\n",
    "y = data['HeartDisease']\n",
    "\n",
    "# One-Hot Encoding for non-binary categorical features\n",
    "categorical_cols = X.select_dtypes(include=['object', 'category']).columns.tolist()\n",
    "encoder = OneHotEncoder(sparse_output=False)\n",
    "\n",
    "if categorical_cols:  # Only encode if there are categorical features\n",
    "    encoded_array = encoder.fit_transform(X[categorical_cols])\n",
    "    encoded_df = pd.DataFrame(encoded_array, columns=encoder.get_feature_names_out(categorical_cols))\n",
    "    X = pd.concat([X.drop(columns=categorical_cols), encoded_df], axis=1)\n",
    "\n",
    "X = X.to_numpy()\n",
    "y = y.to_numpy()\n",
    "\n",
    "# Split data into training, validation, and test sets\n",
    "X_train, X_temp, y_train, y_temp = train_test_split(\n",
    "    X, y, test_size=0.3, random_state=42, stratify=y\n",
    ")\n",
    "\n",
    "#X_val (10%) → Used for hyperparameter tuning.\n",
    "# X_test (20%) → Used for final evaluation.\n",
    "X_val, X_test, y_val, y_test = train_test_split(\n",
    "    X_temp, y_temp, test_size=2/3, random_state=42, stratify=y_temp\n",
    ")"
   ]
  },
  {
   "cell_type": "markdown",
   "metadata": {},
   "source": [
    "# Decision Tree Classifier"
   ]
  },
  {
   "cell_type": "markdown",
   "metadata": {},
   "source": [
    "Tuning the hyperparameters of a Decision Tree Classifier using validation set."
   ]
  },
  {
   "cell_type": "code",
   "execution_count": 3,
   "metadata": {},
   "outputs": [
    {
     "name": "stdout",
     "output_type": "stream",
     "text": [
      "Best max_depth: 5\n",
      "Best min_samples_split: 20\n",
      "Best accuracy: 0.8695652173913043\n"
     ]
    }
   ],
   "source": [
    "# tune the hyperparameters of the DecisionTree model\n",
    "max_depths = [5, 10, 15, 20, 25, 30, 35, 40, 45, 50]\n",
    "min_samples_splits = [2, 4, 6, 8, 10, 20, 40, 60, 80, 100]\n",
    "\n",
    "# Initialize best hyperparameters\n",
    "best_max_depth = None\n",
    "best_min_samples_split = None\n",
    "best_accuracy_dt = 0\n",
    "\n",
    "# Tune hyperparameters\n",
    "for max_depth in max_depths:\n",
    "    for min_samples_split in min_samples_splits:\n",
    "        model_dt = DecisionTree(max_depth=max_depth, min_sample_split=min_samples_split)\n",
    "        model_dt.fit(X_train, y_train)\n",
    "        y_pred_dt = model_dt.predict(X_val)\n",
    "        accuracy_dt = accuracy_score(y_val, y_pred_dt)\n",
    "        if accuracy_dt > best_accuracy_dt:\n",
    "            best_max_depth = max_depth\n",
    "            best_min_samples_split = min_samples_split\n",
    "            best_accuracy_dt = accuracy_dt\n",
    "\n",
    "print(f'Best max_depth: {best_max_depth}')\n",
    "print(f'Best min_samples_split: {best_min_samples_split}')\n",
    "print(f'Best accuracy: {best_accuracy_dt}')\n",
    "            "
   ]
  },
  {
   "cell_type": "markdown",
   "metadata": {},
   "source": [
    "Training a Decision Tree Classifier on the test set using best hyperparameters."
   ]
  },
  {
   "cell_type": "code",
   "execution_count": 4,
   "metadata": {},
   "outputs": [
    {
     "name": "stdout",
     "output_type": "stream",
     "text": [
      "Accuracy of DecisionTree: 0.842391304347826\n"
     ]
    }
   ],
   "source": [
    "# Train the DecisionTree model with the best hyperparameters\n",
    "dt_model = DecisionTree(max_depth=best_max_depth, min_sample_split=best_min_samples_split)\n",
    "dt_model.fit(X_train, y_train)\n",
    "\n",
    "# get predictions and accuracy of the DecisionTree model on the test set\n",
    "y_pred_dt_test = dt_model.predict(X_test)\n",
    "test_accuracy_dt = accuracy_score(y_test, y_pred_dt_test)\n",
    "print(f\"Accuracy of DecisionTree: {test_accuracy_dt}\")"
   ]
  },
  {
   "cell_type": "markdown",
   "metadata": {},
   "source": [
    "Evaluating the performance of the Decision Tree Classifier on the test set."
   ]
  },
  {
   "cell_type": "code",
   "execution_count": 5,
   "metadata": {},
   "outputs": [
    {
     "name": "stdout",
     "output_type": "stream",
     "text": [
      "F1 Score of DecisionTree: 0.8542713567839196\n"
     ]
    },
    {
     "data": {
      "image/png": "[encoded data removed]",
      "text/plain": [
       "<Figure size 600x400 with 2 Axes>"
      ]
     },
     "metadata": {},
     "output_type": "display_data"
    }
   ],
   "source": [
    "# calculate the F1 score of the DecisionTree model\n",
    "f1_dt = f1_score(y_test, y_pred_dt_test)\n",
    "print(f\"F1 Score of DecisionTree: {f1_dt}\")\n",
    "# Plot Confusion Matrix for DecisionTree\n",
    "conf_matrix_dt = confusion_matrix(y_test, y_pred_dt_test)\n",
    "def plot_confusion_matrix(conf_matrix, title):\n",
    "    plt.figure(figsize=(6, 4))\n",
    "    sns.heatmap(conf_matrix, annot=True, fmt='d', cmap='Blues', xticklabels=[\"Class 0\", \"Class 1\"], yticklabels=[\"Class 0\", \"Class 1\"])\n",
    "    plt.xlabel(\"Predicted Label\")\n",
    "    plt.ylabel(\"True Label\")\n",
    "    plt.title(title)\n",
    "    plt.show()\n",
    "\n",
    "plot_confusion_matrix(conf_matrix_dt, \"Decision Tree Classifier Confusion Matrix\")"
   ]
  },
  {
   "cell_type": "markdown",
   "metadata": {},
   "source": [
    "# Bagging Ensemble"
   ]
  },
  {
   "cell_type": "markdown",
   "metadata": {},
   "source": [
    "Tuning the hyperparameters of a Bagging Ensemble Classifier using validation set"
   ]
  },
  {
   "cell_type": "code",
   "execution_count": 6,
   "metadata": {},
   "outputs": [
    {
     "name": "stdout",
     "output_type": "stream",
     "text": [
      "Best n_estimators: 20\n",
      "Best accuracy: 0.8478260869565217\n"
     ]
    }
   ],
   "source": [
    "# tune the hyperparameters of the Boosting\n",
    "n_estimators = [20, 25, 30, 35, 40, 45, 50]\n",
    "\n",
    "# Initialize best hyperparameters\n",
    "best_n_estim = None\n",
    "best_accuracy_bag = 0\n",
    "\n",
    "# Tune hyperparameters\n",
    "for n_estm in n_estimators:\n",
    "    model_bag = BaggingClassifier(base_learner=DecisionTree, n_estimators=n_estm)\n",
    "    model_bag.fit(X_train, y_train)\n",
    "    y_pred_bag = model_bag.predict(X_val)\n",
    "    accuracy_bag = accuracy_score(y_val, y_pred_bag)\n",
    "    if accuracy_bag > best_accuracy_bag:\n",
    "        best_n_estim = n_estm\n",
    "        best_accuracy_bag = accuracy_bag\n",
    "\n",
    "print(f'Best n_estimators: {best_n_estim}')\n",
    "print(f'Best accuracy: {best_accuracy_bag}')"
   ]
  },
  {
   "cell_type": "markdown",
   "metadata": {},
   "source": [
    "Training the Ensemble Classifier on the test set using best hyperparameters."
   ]
  },
  {
   "cell_type": "code",
   "execution_count": 7,
   "metadata": {},
   "outputs": [
    {
     "name": "stdout",
     "output_type": "stream",
     "text": [
      "Accuracy of Bagging: 0.8152173913043478\n"
     ]
    }
   ],
   "source": [
    "#Train the Bagging model with the best hyperparameters\n",
    "bag_model = BaggingClassifier(base_learner=DecisionTree, n_estimators=best_n_estim)\n",
    "bag_model.fit(X_train, y_train)\n",
    "\n",
    "# get predictions and accuracy of the Bagging model on the test set\n",
    "y_pred_bag_test = bag_model.predict(X_test)\n",
    "test_accuracy_bag = accuracy_score(y_test, y_pred_bag_test)\n",
    "print(f\"Accuracy of Bagging: {test_accuracy_bag}\")\n"
   ]
  },
  {
   "cell_type": "markdown",
   "metadata": {},
   "source": [
    "Evaluating the performance of the Ensemble Classifier on the test set."
   ]
  },
  {
   "cell_type": "code",
   "execution_count": 8,
   "metadata": {},
   "outputs": [
    {
     "name": "stdout",
     "output_type": "stream",
     "text": [
      "F1 Score of Bagging: 0.83\n"
     ]
    },
    {
     "data": {
      "image/png": "[encoded data removed]",
      "text/plain": [
       "<Figure size 600x400 with 2 Axes>"
      ]
     },
     "metadata": {},
     "output_type": "display_data"
    }
   ],
   "source": [
    "# calculate the F-1 score\n",
    "f1_bag = f1_score(y_test, y_pred_bag_test)\n",
    "print(f\"F1 Score of Bagging: {f1_bag}\")\n",
    "\n",
    "#plot the confusion matrix\n",
    "conf_matrix_bag = confusion_matrix(y_test, y_pred_bag_test)\n",
    "\n",
    "def plot_confusion_matrix(conf_matrix, title):\n",
    "    plt.figure(figsize=(6, 4))\n",
    "    sns.heatmap(conf_matrix, annot=True, fmt='d', cmap='Blues', xticklabels=[\"Class 0\", \"Class 1\"], yticklabels=[\"Class 0\", \"Class 1\"])\n",
    "    plt.xlabel(\"Predicted Label\")\n",
    "    plt.ylabel(\"True Label\")\n",
    "    plt.title(title)\n",
    "    plt.show()\n",
    "\n",
    "plot_confusion_matrix(conf_matrix_bag, \"Bagging Confusion Matrix\")\n"
   ]
  },
  {
   "cell_type": "markdown",
   "metadata": {},
   "source": [
    "# Adaboost Ensemble"
   ]
  },
  {
   "cell_type": "markdown",
   "metadata": {},
   "source": [
    "Tuning the hyperparameters of a Adaboost Ensemble Classifier using validation set"
   ]
  },
  {
   "cell_type": "code",
   "execution_count": 9,
   "metadata": {},
   "outputs": [
    {
     "name": "stdout",
     "output_type": "stream",
     "text": [
      "Best n_weak_learners: 20\n",
      "Best accuracy: 0.8478260869565217\n"
     ]
    }
   ],
   "source": [
    "# tune the hyperparameters of Adaboost\n",
    "n_weak_learners = [20, 50, 100]\n",
    "\n",
    "# Initialize best hyperparameters\n",
    "best_n_weak_learners = None\n",
    "best_accuracy_ada = 0\n",
    "\n",
    "# Tune hyperparameters\n",
    "for n_weak_learner in n_weak_learners:\n",
    "    model_ada = AdaBoost(n_weak_learner)\n",
    "    model_ada.fit(X_train, y_train)\n",
    "    y_pred_ada = model_ada.predict(X_val)\n",
    "    accuracy_ada = accuracy_score(y_val, y_pred_ada)\n",
    "    if accuracy_ada > best_accuracy_ada:\n",
    "        best_n_weak_learners = n_weak_learner\n",
    "        best_accuracy_ada = accuracy_ada\n",
    "\n",
    "print(f'Best n_weak_learners: {best_n_weak_learners}')\n",
    "print(f'Best accuracy: {best_accuracy_ada}')"
   ]
  },
  {
   "cell_type": "markdown",
   "metadata": {},
   "source": [
    "Training the Ensemble on the test set using best hyperparameters."
   ]
  },
  {
   "cell_type": "code",
   "execution_count": 10,
   "metadata": {},
   "outputs": [
    {
     "name": "stdout",
     "output_type": "stream",
     "text": [
      "Accuracy of Adaboost: 0.782608695652174\n"
     ]
    }
   ],
   "source": [
    "#train the Adaboost model with the best hyperparameters\n",
    "ada_model = AdaBoost(best_n_weak_learners)\n",
    "ada_model.fit(X_train, y_train)\n",
    "\n",
    "# get predictions and accuracy of the Adaboost model on the test set\n",
    "y_pred_ada_test = ada_model.predict(X_test)\n",
    "test_accuracy_ada = accuracy_score(y_test, y_pred_ada_test)\n",
    "print(f\"Accuracy of Adaboost: {test_accuracy_ada}\")\n"
   ]
  },
  {
   "cell_type": "markdown",
   "metadata": {},
   "source": [
    "Evaluating the performance of the Ensemble on the test set."
   ]
  },
  {
   "cell_type": "code",
   "execution_count": 11,
   "metadata": {},
   "outputs": [
    {
     "name": "stdout",
     "output_type": "stream",
     "text": [
      "F1 Score of Adaboost: 0.8\n"
     ]
    },
    {
     "data": {
      "image/png": "[encoded data removed]",
      "text/plain": [
       "<Figure size 600x400 with 2 Axes>"
      ]
     },
     "metadata": {},
     "output_type": "display_data"
    }
   ],
   "source": [
    "# calculate the F-1 score\n",
    "f1_ada = f1_score(y_test, y_pred_ada_test)\n",
    "print(f\"F1 Score of Adaboost: {f1_ada}\")\n",
    "\n",
    "#plot the confusion matrix\n",
    "conf_matrix_ada = confusion_matrix(y_test, y_pred_ada_test)\n",
    "\n",
    "def plot_confusion_matrix(conf_matrix, title):\n",
    "    plt.figure(figsize=(6, 4))\n",
    "    sns.heatmap(conf_matrix, annot=True, fmt='d', cmap='Blues', xticklabels=[\"Class 0\", \"Class 1\"], yticklabels=[\"Class 0\", \"Class 1\"])\n",
    "    plt.xlabel(\"Predicted Label\")\n",
    "    plt.ylabel(\"True Label\")\n",
    "    plt.title(title)\n",
    "    plt.show()\n",
    "plot_confusion_matrix(conf_matrix_ada, \"Adaboost Confusion Matrix\")"
   ]
  }
 ],
 "metadata": {
  "kernelspec": {
   "display_name": "base",
   "language": "python",
   "name": "python3"
  },
  "language_info": {
   "codemirror_mode": {
    "name": "ipython",
    "version": 3
   },
   "file_extension": ".py",
   "mimetype": "text/x-python",
   "name": "python",
   "nbconvert_exporter": "python",
   "pygments_lexer": "ipython3",
   "version": "3.9.13"
  }
 },
 "nbformat": 4,
 "nbformat_minor": 2
}
