{
 "cells": [
  {
   "cell_type": "code",
   "execution_count": 19,
   "metadata": {},
   "outputs": [],
   "source": [
    "import numpy as np\n",
    "import pandas as pd\n",
    "from DecisionTree import DecisionTree\n",
    "from sklearn.linear_model import LogisticRegression \n",
    "from sklearn.tree import DecisionTreeClassifier\n",
    "from sklearn.metrics import accuracy_score\n",
    "from sklearn.preprocessing import OneHotEncoder\n",
    "from sklearn.model_selection import train_test_split\n",
    "from collections import Counter\n",
    "from BaggingClassifier import BaggingClassifier\n",
    "%run DecisionTree.py\n"
   ]
  },
  {
   "cell_type": "code",
   "execution_count": 20,
   "metadata": {},
   "outputs": [],
   "source": [
    "# Load dataset\n",
    "data = pd.read_csv('heart.csv')\n",
    "\n",
    "# Binary encoding for 'Sex' and 'ExerciseAngina'\n",
    "data['Sex'] = data['Sex'].map({'M': 1, 'F': 0})\n",
    "data['ExerciseAngina'] = data['ExerciseAngina'].map({'Y': 1, 'N': 0})\n",
    "\n",
    "# Extract features and labels\n",
    "X = data.drop(columns=['HeartDisease'])\n",
    "y = data['HeartDisease']\n"
   ]
  },
  {
   "cell_type": "code",
   "execution_count": 21,
   "metadata": {},
   "outputs": [
    {
     "name": "stderr",
     "output_type": "stream",
     "text": [
      "d:\\anaconda\\Lib\\site-packages\\sklearn\\preprocessing\\_encoders.py:972: FutureWarning: `sparse` was renamed to `sparse_output` in version 1.2 and will be removed in 1.4. `sparse_output` is ignored unless you leave `sparse` to its default value.\n",
      "  warnings.warn(\n"
     ]
    }
   ],
   "source": [
    "# One-Hot Encoding for non-binary categorical features\n",
    "categorical_cols = X.select_dtypes(include=['object', 'category']).columns.tolist()\n",
    "encoder = OneHotEncoder(sparse=False)\n",
    "\n",
    "if categorical_cols:  # Only encode if there are categorical features\n",
    "    encoded_array = encoder.fit_transform(X[categorical_cols])\n",
    "    encoded_df = pd.DataFrame(encoded_array, columns=encoder.get_feature_names_out(categorical_cols))\n",
    "    X = pd.concat([X.drop(columns=categorical_cols), encoded_df], axis=1)\n",
    "\n",
    "# Convert DataFrame to NumPy array\n",
    "X = X.to_numpy()\n",
    "y = y.to_numpy()"
   ]
  },
  {
   "cell_type": "code",
   "execution_count": 22,
   "metadata": {},
   "outputs": [],
   "source": [
    "# Split data into training, validation, and test sets\n",
    "X_train, X_temp, y_train, y_temp = train_test_split(\n",
    "    X, y, test_size=0.3, random_state=42, stratify=y\n",
    ")\n",
    "X_val, X_test, y_val, y_test = train_test_split(\n",
    "    X_temp, y_temp, test_size=2/3, random_state=42, stratify=y_temp\n",
    ")\n"
   ]
  },
  {
   "cell_type": "code",
   "execution_count": 23,
   "metadata": {},
   "outputs": [
    {
     "name": "stdout",
     "output_type": "stream",
     "text": [
      "Training Complete!\n"
     ]
    }
   ],
   "source": [
    "# Train the DecisionTree model\n",
    "model = DecisionTree()\n",
    "model.fit(X_train, y_train)\n",
    "\n",
    "print(\"Training Complete!\")"
   ]
  },
  {
   "cell_type": "code",
   "execution_count": 24,
   "metadata": {},
   "outputs": [
    {
     "name": "stdout",
     "output_type": "stream",
     "text": [
      "Validation Accuracy: 0.8478\n"
     ]
    }
   ],
   "source": [
    "val_set = model.predict(X_val)\n",
    "# compute accuracy\n",
    "accuracy = np.sum(val_set == y_val) / len(y_val)\n",
    "print(f\"Validation Accuracy: {accuracy:.4f}\")"
   ]
  },
  {
   "cell_type": "code",
   "execution_count": 25,
   "metadata": {},
   "outputs": [
    {
     "name": "stdout",
     "output_type": "stream",
     "text": [
      "Validation Accuracy: 0.8587\n"
     ]
    }
   ],
   "source": [
    "# train sklearn's DecisionTreeClassifier\n",
    "sklearn_model = DecisionTreeClassifier( random_state=42)\n",
    "sklearn_model.fit(X_train, y_train)\n",
    "\n",
    "# predict on validation set\n",
    "val_set = sklearn_model.predict(X_val)\n",
    "# compute accuracy\n",
    "accuracy = accuracy_score(y_val, val_set)\n",
    "print(f\"Validation Accuracy: {accuracy:.4f}\")"
   ]
  },
  {
   "cell_type": "code",
   "execution_count": 26,
   "metadata": {},
   "outputs": [],
   "source": [
    "# Train the Bagging Classifier\n",
    "bagging_model = BaggingClassifier(base_learner=DecisionTree, n_estimators=20)\n",
    "bagging_model.fit(X_train, y_train)\n"
   ]
  },
  {
   "cell_type": "code",
   "execution_count": 27,
   "metadata": {},
   "outputs": [
    {
     "name": "stdout",
     "output_type": "stream",
     "text": [
      "Bagging Classifier Validation Accuracy: 0.8913\n"
     ]
    }
   ],
   "source": [
    "# Predict using Bagging Classifier\n",
    "val_set = bagging_model.predict(X_val)\n",
    "# Compute accuracy\n",
    "accuracy = accuracy_score(y_val, val_set)\n",
    "print(f\"Bagging Classifier Validation Accuracy: {accuracy:.4f}\")\n"
   ]
  },
  {
   "cell_type": "code",
   "execution_count": null,
   "metadata": {},
   "outputs": [],
   "source": [
    "# train logistic regression\n",
    "logistic_model = LogisticRegression(random_state=42)\n",
    "logistic_model.fit(X_train, y_train)\n",
    "\n",
    "# predict on validation set\n",
    "val_set = logistic_model.predict(X_val)\n",
    "# compute accuracy\n",
    "accuracy = accuracy_score(y_val, val_set)\n",
    "\n",
    "print(f\"Validation Accuracy: {accuracy:.4f}\")\n"
   ]
  },
  {
   "cell_type": "code",
   "execution_count": 49,
   "metadata": {},
   "outputs": [],
   "source": [
    "import torch\n",
    "import torch.nn as nn\n",
    "import torchvision\n",
    "import torchvision.transforms as transforms\n",
    "from torch.utils.data import DataLoader, TensorDataset\n",
    "import pandas as pd\n",
    "import numpy as np\n"
   ]
  },
  {
   "cell_type": "code",
   "execution_count": 50,
   "metadata": {},
   "outputs": [],
   "source": [
    "# Hyper-parameters \n",
    "input_size = 18\n",
    "hidden_size = 100 \n",
    "num_classes = 2\n",
    "num_epochs = 20\n",
    "batch_size = 64\n",
    "learning_rate = 0.001"
   ]
  },
  {
   "cell_type": "code",
   "execution_count": null,
   "metadata": {},
   "outputs": [
    {
     "name": "stdout",
     "output_type": "stream",
     "text": [
      "torch.Size([642, 18])\n",
      "(642, 18)\n",
      "torch.Size([642])\n"
     ]
    }
   ],
   "source": [
    "# Convert to PyTorch tensors\n",
    "X_train_tensor = torch.tensor(X_train, dtype=torch.float32)\n",
    "y_train_tensor = torch.tensor(y_train, dtype=torch.long) \n",
    "\n",
    "x_val_tensor = torch.tensor(X_val, dtype=torch.float32)\n",
    "y_val_tensor = torch.tensor(y_val, dtype=torch.long)\n",
    "print(X_train_tensor.shape)\n",
    "print(X_train.shape)\n",
    "print(y_train_tensor.shape)\n",
    "# Create a TensorDataset\n",
    "train_dataset = TensorDataset(X_train_tensor, y_train_tensor)\n",
    "\n",
    "# Create DataLoader\n",
    "train_loader = DataLoader(dataset=train_dataset, batch_size=batch_size, shuffle=True)\n",
    "test_loader = DataLoader(dataset=TensorDataset(x_val_tensor, y_val_tensor), batch_size=batch_size, shuffle=False)"
   ]
  },
  {
   "cell_type": "code",
   "execution_count": null,
   "metadata": {},
   "outputs": [
    {
     "name": "stdout",
     "output_type": "stream",
     "text": [
      "Accuracy of the network : 72.82608695652173 %\n"
     ]
    }
   ],
   "source": [
    "class NeuralNet(nn.Module):\n",
    "  def __init__(self, input_size,hidden_size,output_size):\n",
    "    super(NeuralNet,self).__init__()\n",
    "    self.input_size = input_size\n",
    "    self.l1 = nn.Linear(input_size,hidden_size)\n",
    "    self.relu = nn.ReLU()\n",
    "    self.l2 = nn.Linear(hidden_size,output_size)  \n",
    "\n",
    "  def forward(self,x):\n",
    "    output = self.l1(x)\n",
    "    output = self.relu(output)\n",
    "    output = self.l2(output)\n",
    "    return output\n",
    "\n",
    "model = NeuralNet(input_size, hidden_size, 2)\n",
    "criterion = nn.CrossEntropyLoss()\n",
    "optimizer = torch.optim.SGD(model.parameters(),lr=learning_rate)\n",
    "\n",
    "\n",
    "for epoch in range(num_epochs):\n",
    "  for _,(example, lab) in enumerate(train_loader): \n",
    "    out = model.forward(example)\n",
    "    loss = criterion(out,lab)\n",
    "    optimizer.zero_grad()\n",
    "    loss.backward()\n",
    "    optimizer.step()\n",
    "\n",
    "with torch.no_grad():\n",
    "    n_correct = 0\n",
    "    n_samples = 0\n",
    "    for example, labels in test_loader:\n",
    "        outputs = model(example)\n",
    "        _, predicted = torch.max(outputs.data, 1)\n",
    "        n_samples += labels.size(0)\n",
    "        n_correct += (predicted == labels).sum().item()\n",
    "\n",
    "    acc = (n_correct / n_samples) * 100.0\n",
    "    print(f'Accuracy of the network : {acc} %')"
   ]
  },
  {
   "cell_type": "code",
   "execution_count": null,
   "metadata": {},
   "outputs": [],
   "source": []
  }
 ],
 "metadata": {
  "kernelspec": {
   "display_name": "base",
   "language": "python",
   "name": "python3"
  },
  "language_info": {
   "codemirror_mode": {
    "name": "ipython",
    "version": 3
   },
   "file_extension": ".py",
   "mimetype": "text/x-python",
   "name": "python",
   "nbconvert_exporter": "python",
   "pygments_lexer": "ipython3",
   "version": "3.9.13"
  }
 },
 "nbformat": 4,
 "nbformat_minor": 2
}
